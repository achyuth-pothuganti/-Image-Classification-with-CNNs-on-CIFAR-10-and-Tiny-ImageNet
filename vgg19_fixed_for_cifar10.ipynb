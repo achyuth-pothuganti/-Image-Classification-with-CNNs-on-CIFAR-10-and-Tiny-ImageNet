{
  "cells": [
    {
      "cell_type": "code",
      "source": [
        "# Import necessary libraries\n",
        "import numpy as np\n",
        "import tensorflow as tf\n",
        "from keras.datasets import cifar100, cifar10\n",
        "from keras.applications import VGG19\n",
        "from keras.models import Model\n",
        "from keras.layers import Dense, Flatten\n",
        "from keras.optimizers import SGD\n",
        "from keras.utils import to_categorical\n",
        "\n",
        "# Load CIFAR-100 data\n",
        "(train_images, train_labels), (test_images, test_labels) = cifar10.load_data()\n",
        "\n",
        "# Preprocess data\n",
        "train_images = train_images.astype('float32') / 255\n",
        "test_images = test_images.astype('float32') / 255\n",
        "train_labels = to_categorical(train_labels, 100)\n",
        "test_labels = to_categorical(test_labels, 100)\n",
        "\n",
        "# Load the VGG19 model pre-trained on ImageNet\n",
        "vgg19_model = VGG19(include_top=False, weights='imagenet', input_shape=(32, 32, 3))\n",
        "\n",
        "vgg19_model.trainable = False\n",
        "\n",
        "# Modify the model to include new top layers for CIFAR-100 classification\n",
        "x = Flatten()(vgg19_model.output)\n",
        "x = Dense(512, activation='relu')(x)\n",
        "predictions = Dense(10, activation='softmax')(x)\n",
        "\n",
        "# Create the full model\n",
        "model = Model(inputs=vgg19_model.input, outputs=predictions)\n",
        "\n",
        "# Compile the model\n",
        "model.compile(optimizer=SGD(learning_rate=0.01, momentum=0.9),\n",
        "              loss='categorical_crossentropy',\n",
        "              metrics=['accuracy'])\n",
        "\n",
        "# Train the model\n",
        "history = model.fit(train_images, train_labels, batch_size=128, epochs=20,\n",
        "                    validation_data=(test_images, test_labels))\n",
        "\n",
        "# Evaluate the model\n",
        "test_loss, test_accuracy = model.evaluate(test_images, test_labels)\n",
        "print(\"Test Loss:\", test_loss)\n",
        "print(\"Test Accuracy:\", test_accuracy)\n"
      ],
      "metadata": {
        "colab": {
          "base_uri": "https://localhost:8080/"
        },
        "id": "JdiNp2chDC_B",
        "outputId": "e45224c5-0c4d-44ce-c5e9-16f37278dbec"
      },
      "execution_count": 36,
      "outputs": [
        {
          "output_type": "stream",
          "name": "stdout",
          "text": [
            "Epoch 1/20\n",
            "391/391 [==============================] - 11s 25ms/step - loss: 3.8196 - accuracy: 0.1361 - val_loss: 3.3596 - val_accuracy: 0.1985\n",
            "Epoch 2/20\n",
            "391/391 [==============================] - 9s 24ms/step - loss: 3.2090 - accuracy: 0.2232 - val_loss: 3.1176 - val_accuracy: 0.2345\n",
            "Epoch 3/20\n",
            "391/391 [==============================] - 9s 24ms/step - loss: 3.0307 - accuracy: 0.2558 - val_loss: 3.0058 - val_accuracy: 0.2575\n",
            "Epoch 4/20\n",
            "391/391 [==============================] - 9s 24ms/step - loss: 2.9304 - accuracy: 0.2758 - val_loss: 2.9292 - val_accuracy: 0.2755\n",
            "Epoch 5/20\n",
            "391/391 [==============================] - 9s 24ms/step - loss: 2.8572 - accuracy: 0.2900 - val_loss: 2.8994 - val_accuracy: 0.2826\n",
            "Epoch 6/20\n",
            "391/391 [==============================] - 9s 24ms/step - loss: 2.7990 - accuracy: 0.3003 - val_loss: 2.8571 - val_accuracy: 0.2898\n",
            "Epoch 7/20\n",
            "391/391 [==============================] - 9s 24ms/step - loss: 2.7538 - accuracy: 0.3091 - val_loss: 2.8213 - val_accuracy: 0.2988\n",
            "Epoch 8/20\n",
            "391/391 [==============================] - 9s 24ms/step - loss: 2.7122 - accuracy: 0.3173 - val_loss: 2.7774 - val_accuracy: 0.3079\n",
            "Epoch 9/20\n",
            "391/391 [==============================] - 9s 24ms/step - loss: 2.6745 - accuracy: 0.3260 - val_loss: 2.7578 - val_accuracy: 0.3108\n",
            "Epoch 10/20\n",
            "391/391 [==============================] - 9s 24ms/step - loss: 2.6450 - accuracy: 0.3321 - val_loss: 2.7468 - val_accuracy: 0.3096\n",
            "Epoch 11/20\n",
            "391/391 [==============================] - 9s 24ms/step - loss: 2.6133 - accuracy: 0.3377 - val_loss: 2.7289 - val_accuracy: 0.3155\n",
            "Epoch 12/20\n",
            "391/391 [==============================] - 9s 24ms/step - loss: 2.5845 - accuracy: 0.3441 - val_loss: 2.7204 - val_accuracy: 0.3243\n",
            "Epoch 13/20\n",
            "391/391 [==============================] - 9s 24ms/step - loss: 2.5634 - accuracy: 0.3487 - val_loss: 2.6839 - val_accuracy: 0.3210\n",
            "Epoch 14/20\n",
            "391/391 [==============================] - 9s 24ms/step - loss: 2.5374 - accuracy: 0.3544 - val_loss: 2.6912 - val_accuracy: 0.3255\n",
            "Epoch 15/20\n",
            "391/391 [==============================] - 9s 24ms/step - loss: 2.5189 - accuracy: 0.3579 - val_loss: 2.6732 - val_accuracy: 0.3256\n",
            "Epoch 16/20\n",
            "391/391 [==============================] - 9s 24ms/step - loss: 2.4950 - accuracy: 0.3620 - val_loss: 2.6607 - val_accuracy: 0.3303\n",
            "Epoch 17/20\n",
            "391/391 [==============================] - 9s 24ms/step - loss: 2.4792 - accuracy: 0.3654 - val_loss: 2.6495 - val_accuracy: 0.3292\n",
            "Epoch 18/20\n",
            "391/391 [==============================] - 9s 24ms/step - loss: 2.4572 - accuracy: 0.3684 - val_loss: 2.6464 - val_accuracy: 0.3383\n",
            "Epoch 19/20\n",
            "391/391 [==============================] - 9s 24ms/step - loss: 2.4399 - accuracy: 0.3740 - val_loss: 2.6314 - val_accuracy: 0.3373\n",
            "Epoch 20/20\n",
            "391/391 [==============================] - 9s 24ms/step - loss: 2.4149 - accuracy: 0.3757 - val_loss: 2.6291 - val_accuracy: 0.3319\n",
            "313/313 [==============================] - 4s 10ms/step - loss: 2.6291 - accuracy: 0.3319\n",
            "Test Loss: 2.6290817260742188\n",
            "Test Accuracy: 0.3319000005722046\n"
          ]
        }
      ]
    },
    {
      "cell_type": "code",
      "source": [
        "import pandas as pd\n",
        "pd.DataFrame(history.history).to_csv('history.csv')"
      ],
      "metadata": {
        "id": "FfW1XTX9Desb"
      },
      "execution_count": 38,
      "outputs": []
    },
    {
      "cell_type": "code",
      "source": [],
      "metadata": {
        "id": "5wSI_eBXERKS"
      },
      "execution_count": null,
      "outputs": []
    }
  ],
  "metadata": {
    "accelerator": "GPU",
    "colab": {
      "gpuType": "T4",
      "machine_shape": "hm",
      "provenance": []
    },
    "kernelspec": {
      "display_name": "Python 3",
      "name": "python3"
    },
    "language_info": {
      "codemirror_mode": {
        "name": "ipython",
        "version": 3
      },
      "file_extension": ".py",
      "mimetype": "text/x-python",
      "name": "python",
      "nbconvert_exporter": "python",
      "pygments_lexer": "ipython3",
      "version": "3.12.2"
    }
  },
  "nbformat": 4,
  "nbformat_minor": 0
}